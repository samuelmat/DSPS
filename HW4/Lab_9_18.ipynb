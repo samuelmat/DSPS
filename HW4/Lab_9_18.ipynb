{
  "nbformat": 4,
  "nbformat_minor": 0,
  "metadata": {
    "colab": {
      "name": "Lab_9_18.ipynb",
      "provenance": [],
      "include_colab_link": true
    },
    "kernelspec": {
      "name": "python3",
      "display_name": "Python 3"
    }
  },
  "cells": [
    {
      "cell_type": "markdown",
      "metadata": {
        "id": "view-in-github",
        "colab_type": "text"
      },
      "source": [
        "<a href=\"https://colab.research.google.com/github/samuelmat/DSPS/blob/master/HW4/Lab_9_18.ipynb\" target=\"_parent\"><img src=\"https://colab.research.google.com/assets/colab-badge.svg\" alt=\"Open In Colab\"/></a>"
      ]
    },
    {
      "cell_type": "code",
      "metadata": {
        "id": "pguX7ySgASvD",
        "colab_type": "code",
        "colab": {
          "base_uri": "https://localhost:8080/",
          "height": 112
        },
        "outputId": "de2be837-20b1-4b38-f92e-538b335faf90"
      },
      "source": [
        "import numpy as np\n",
        "import matplotlib.pyplot as plt\n",
        "%pylab inline\n",
        "\n",
        "def square(side):\n",
        "  ax = plt.figure(figsize=(5,5)).add_subplot(1,1,1)\n",
        "  plt.scatter(-side,-side)\n",
        "  plt.scatter(-side,side)\n",
        "  plt.scatter(side,-side)\n",
        "  plt.scatter(side,side)\n",
        "  plt.plot([-side,-side], [-side,side])\n",
        "  plt.plot([-side,side], [side,side])\n",
        "  plt.plot([side,side], [side, -side])\n",
        "  plt.plot([side,-side], [-side,-side])\n",
        "  \n",
        "  return ax\n"
      ],
      "execution_count": 12,
      "outputs": [
        {
          "output_type": "stream",
          "text": [
            "Populating the interactive namespace from numpy and matplotlib\n"
          ],
          "name": "stdout"
        },
        {
          "output_type": "stream",
          "text": [
            "/usr/local/lib/python3.6/dist-packages/IPython/core/magics/pylab.py:161: UserWarning: pylab import has clobbered these variables: ['square']\n",
            "`%matplotlib` prevents importing * from pylab and numpy\n",
            "  \"\\n`%matplotlib` prevents importing * from pylab and numpy\"\n"
          ],
          "name": "stderr"
        }
      ]
    },
    {
      "cell_type": "code",
      "metadata": {
        "id": "W3T_MxTyA4Z-",
        "colab_type": "code",
        "colab": {
          "base_uri": "https://localhost:8080/",
          "height": 54
        },
        "outputId": "8864dd3b-ebfd-4364-b782-644a709f29ce"
      },
      "source": [
        "!pip install astropy\n",
        "  "
      ],
      "execution_count": 7,
      "outputs": [
        {
          "output_type": "stream",
          "text": [
            "Requirement already satisfied: astropy in /usr/local/lib/python3.6/dist-packages (3.0.5)\n",
            "Requirement already satisfied: numpy>=1.10.0 in /usr/local/lib/python3.6/dist-packages (from astropy) (1.16.5)\n"
          ],
          "name": "stdout"
        }
      ]
    },
    {
      "cell_type": "code",
      "metadata": {
        "id": "krZUIo4MCXPt",
        "colab_type": "code",
        "colab": {
          "base_uri": "https://localhost:8080/",
          "height": 269
        },
        "outputId": "bf58e664-12b0-4caf-d569-ce36e917129c"
      },
      "source": [
        "from astropy import units as u\n",
        "\n",
        "def circle(radius, ax):\n",
        "  angle = np.arange(0,360,0.1)\n",
        "  angle *= u.degree\n",
        "  \n",
        "  x = radius * np.cos(angle.to(u.rad))\n",
        "  y = radius * np.sin(angle.to(u.rad))\n",
        "  #print('x: ', x)\n",
        "  #print('y: ', y)\n",
        "  \n",
        "  ax.plot(x,y)\n",
        "  \n",
        "\n",
        "ax = plt.figure().add_subplot(1,1,1)"
      ],
      "execution_count": 16,
      "outputs": [
        {
          "output_type": "display_data",
          "data": {
            "image/png": "[encoded data removed]",
            "text/plain": [
              "<Figure size 432x288 with 1 Axes>"
            ]
          },
          "metadata": {
            "tags": []
          }
        }
      ]
    },
    {
      "cell_type": "code",
      "metadata": {
        "id": "nDkLZ-AGCxU8",
        "colab_type": "code",
        "colab": {
          "base_uri": "https://localhost:8080/",
          "height": 360
        },
        "outputId": "d49e933e-792d-4323-9b0e-95aa48326803"
      },
      "source": [
        "axis = square(1)\n",
        "circle(1,axis)\n",
        "\n",
        "np.random.seed(300)\n",
        "num_x = 2 * np.random.rand(100) - 1\n",
        "num_y = 2 * np.random.rand(100) - 1\n",
        "\n",
        "axis.scatter(num_x, num_y)\n",
        "\n",
        "r = np.sqrt((num_x**2) + (num_y**2))\n",
        "r_in = r[r < 1]\n",
        "\n",
        "print(len(r_in))\n",
        "print((4 * len(r_in)) / 100)"
      ],
      "execution_count": 23,
      "outputs": [
        {
          "output_type": "stream",
          "text": [
            "84\n",
            "3.36\n"
          ],
          "name": "stdout"
        },
        {
          "output_type": "display_data",
          "data": {
            "image/png": "[encoded data removed]",
            "text/plain": [
              "<Figure size 360x360 with 1 Axes>"
            ]
          },
          "metadata": {
            "tags": []
          }
        }
      ]
    },
    {
      "cell_type": "code",
      "metadata": {
        "id": "sCrS41aeEbw9",
        "colab_type": "code",
        "colab": {}
      },
      "source": [
        ""
      ],
      "execution_count": 0,
      "outputs": []
    }
  ]
}